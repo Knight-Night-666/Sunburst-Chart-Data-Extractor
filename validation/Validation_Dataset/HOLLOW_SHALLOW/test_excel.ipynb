{
 "cells": [
  {
   "cell_type": "code",
   "execution_count": 1,
   "metadata": {},
   "outputs": [],
   "source": [
    "import pandas as pd\n",
    "import pprint"
   ]
  },
  {
   "cell_type": "code",
   "execution_count": 2,
   "metadata": {},
   "outputs": [],
   "source": [
    "df_category = pd.read_excel('Original_HS.xlsx')"
   ]
  },
  {
   "cell_type": "code",
   "execution_count": 71,
   "metadata": {},
   "outputs": [
    {
     "data": {
      "text/html": [
       "<div>\n",
       "<style scoped>\n",
       "    .dataframe tbody tr th:only-of-type {\n",
       "        vertical-align: middle;\n",
       "    }\n",
       "\n",
       "    .dataframe tbody tr th {\n",
       "        vertical-align: top;\n",
       "    }\n",
       "\n",
       "    .dataframe thead th {\n",
       "        text-align: right;\n",
       "    }\n",
       "</style>\n",
       "<table border=\"1\" class=\"dataframe\">\n",
       "  <thead>\n",
       "    <tr style=\"text-align: right;\">\n",
       "      <th></th>\n",
       "      <th>Image Name</th>\n",
       "      <th>labels</th>\n",
       "      <th>parents</th>\n",
       "    </tr>\n",
       "  </thead>\n",
       "  <tbody>\n",
       "    <tr>\n",
       "      <th>0</th>\n",
       "      <td>RS (1).png</td>\n",
       "      <td>['rhcf', 'ipmw', 'fasv', 'twvf', 'alit', 'owxj...</td>\n",
       "      <td>['', 'rhcf', 'ipmw', 'rhcf', 'rhcf', 'ipmw', '...</td>\n",
       "    </tr>\n",
       "    <tr>\n",
       "      <th>1</th>\n",
       "      <td>RS (2).png</td>\n",
       "      <td>['kmre', 'mkjm', 'uxag', 'vdhd', 'cwgt', 'hwdv...</td>\n",
       "      <td>['', 'kmre', 'mkjm', 'uxag', 'uxag', 'kmre', '...</td>\n",
       "    </tr>\n",
       "    <tr>\n",
       "      <th>2</th>\n",
       "      <td>RS (3).png</td>\n",
       "      <td>['mcav', 'mloh', 'dwty', 'nuty', 'lxqu', 'nnpd...</td>\n",
       "      <td>['', 'mcav', 'mloh', 'mcav', 'mcav', 'mloh', '...</td>\n",
       "    </tr>\n",
       "    <tr>\n",
       "      <th>3</th>\n",
       "      <td>RS (4).png</td>\n",
       "      <td>['vznv', 'zhha', 'wrvy', 'syys', 'gzrd', 'rurb...</td>\n",
       "      <td>['', 'vznv', 'zhha', 'vznv', 'syys', 'gzrd', '...</td>\n",
       "    </tr>\n",
       "    <tr>\n",
       "      <th>4</th>\n",
       "      <td>RS (5).png</td>\n",
       "      <td>['zjvr', 'zfxc', 'zdng', 'wdng', 'rcrp', 'nrac...</td>\n",
       "      <td>['', 'zjvr', 'zfxc', 'zfxc', 'zfxc', 'zdng', '...</td>\n",
       "    </tr>\n",
       "    <tr>\n",
       "      <th>5</th>\n",
       "      <td>RS (6).png</td>\n",
       "      <td>['oiwt', 'uizc', 'wogn', 'mcdh', 'bila', 'pdub...</td>\n",
       "      <td>['', 'oiwt', 'uizc', 'uizc', 'oiwt', 'mcdh', '...</td>\n",
       "    </tr>\n",
       "    <tr>\n",
       "      <th>6</th>\n",
       "      <td>RS (7).png</td>\n",
       "      <td>['ivba', 'xxnq', 'imuu', 'vnve', 'vwbd', 'hass...</td>\n",
       "      <td>['', 'ivba', 'xxnq', 'imuu', 'imuu', 'imuu', '...</td>\n",
       "    </tr>\n",
       "    <tr>\n",
       "      <th>7</th>\n",
       "      <td>RS (8).png</td>\n",
       "      <td>['cuqz', 'artw', 'xzpv', 'noue', 'wxea', 'gtme...</td>\n",
       "      <td>['', 'cuqz', 'cuqz', 'xzpv', 'cuqz', 'noue', '...</td>\n",
       "    </tr>\n",
       "    <tr>\n",
       "      <th>8</th>\n",
       "      <td>RS (9).png</td>\n",
       "      <td>['gafz', 'ways', 'zwko', 'lunp', 'bqvh', 'ewqh...</td>\n",
       "      <td>['', 'gafz', 'ways', 'ways', 'gafz', 'zwko', '...</td>\n",
       "    </tr>\n",
       "    <tr>\n",
       "      <th>9</th>\n",
       "      <td>RS (10).png</td>\n",
       "      <td>['aftw', 'ymij', 'fqef', 'lhsb', 'mlrf', 'juhs...</td>\n",
       "      <td>['', 'aftw', 'ymij', 'aftw', 'fqef', 'lhsb', '...</td>\n",
       "    </tr>\n",
       "  </tbody>\n",
       "</table>\n",
       "</div>"
      ],
      "text/plain": [
       "    Image Name                                             labels  \\\n",
       "0   RS (1).png  ['rhcf', 'ipmw', 'fasv', 'twvf', 'alit', 'owxj...   \n",
       "1   RS (2).png  ['kmre', 'mkjm', 'uxag', 'vdhd', 'cwgt', 'hwdv...   \n",
       "2   RS (3).png  ['mcav', 'mloh', 'dwty', 'nuty', 'lxqu', 'nnpd...   \n",
       "3   RS (4).png  ['vznv', 'zhha', 'wrvy', 'syys', 'gzrd', 'rurb...   \n",
       "4   RS (5).png  ['zjvr', 'zfxc', 'zdng', 'wdng', 'rcrp', 'nrac...   \n",
       "5   RS (6).png  ['oiwt', 'uizc', 'wogn', 'mcdh', 'bila', 'pdub...   \n",
       "6   RS (7).png  ['ivba', 'xxnq', 'imuu', 'vnve', 'vwbd', 'hass...   \n",
       "7   RS (8).png  ['cuqz', 'artw', 'xzpv', 'noue', 'wxea', 'gtme...   \n",
       "8   RS (9).png  ['gafz', 'ways', 'zwko', 'lunp', 'bqvh', 'ewqh...   \n",
       "9  RS (10).png  ['aftw', 'ymij', 'fqef', 'lhsb', 'mlrf', 'juhs...   \n",
       "\n",
       "                                             parents  \n",
       "0  ['', 'rhcf', 'ipmw', 'rhcf', 'rhcf', 'ipmw', '...  \n",
       "1  ['', 'kmre', 'mkjm', 'uxag', 'uxag', 'kmre', '...  \n",
       "2  ['', 'mcav', 'mloh', 'mcav', 'mcav', 'mloh', '...  \n",
       "3  ['', 'vznv', 'zhha', 'vznv', 'syys', 'gzrd', '...  \n",
       "4  ['', 'zjvr', 'zfxc', 'zfxc', 'zfxc', 'zdng', '...  \n",
       "5  ['', 'oiwt', 'uizc', 'uizc', 'oiwt', 'mcdh', '...  \n",
       "6  ['', 'ivba', 'xxnq', 'imuu', 'imuu', 'imuu', '...  \n",
       "7  ['', 'cuqz', 'cuqz', 'xzpv', 'cuqz', 'noue', '...  \n",
       "8  ['', 'gafz', 'ways', 'ways', 'gafz', 'zwko', '...  \n",
       "9  ['', 'aftw', 'ymij', 'aftw', 'fqef', 'lhsb', '...  "
      ]
     },
     "execution_count": 71,
     "metadata": {},
     "output_type": "execute_result"
    }
   ],
   "source": [
    "df_category"
   ]
  },
  {
   "cell_type": "code",
   "execution_count": 3,
   "metadata": {},
   "outputs": [],
   "source": [
    "dict_category = df_category.set_index('Image Name').T.to_dict('list')"
   ]
  },
  {
   "cell_type": "code",
   "execution_count": 7,
   "metadata": {},
   "outputs": [
    {
     "name": "stdout",
     "output_type": "stream",
     "text": [
      "[' ', 'aazg', 'fouy', 'kqmf', 'ngbi', 'qlps', 'ngtn', 'muic', 'hrit', 'fllg', 'oera', 'dnhf', 'uvsi', 'bnlu', 'yjuw']\n"
     ]
    }
   ],
   "source": [
    "print(dict_category['HS (1).png'][0])"
   ]
  },
  {
   "cell_type": "code",
   "execution_count": 5,
   "metadata": {},
   "outputs": [
    {
     "data": {
      "text/plain": [
       "117"
      ]
     },
     "execution_count": 5,
     "metadata": {},
     "output_type": "execute_result"
    }
   ],
   "source": [
    "len(dict_category['HS (1).png'][0])"
   ]
  },
  {
   "cell_type": "code",
   "execution_count": 33,
   "metadata": {},
   "outputs": [],
   "source": [
    "arr = dict_category['HS (1).png'][0][1:117].split(',')\n",
    "arr2 = dict_category['HS (1).png'][1][1:117].split(',')"
   ]
  },
  {
   "cell_type": "code",
   "execution_count": 42,
   "metadata": {},
   "outputs": [
    {
     "data": {
      "text/plain": [
       "\"'\""
      ]
     },
     "execution_count": 42,
     "metadata": {},
     "output_type": "execute_result"
    }
   ],
   "source": [
    "arr[0][0]"
   ]
  },
  {
   "cell_type": "code",
   "execution_count": 35,
   "metadata": {},
   "outputs": [
    {
     "data": {
      "text/plain": [
       "[\"''\",\n",
       " \" ' '\",\n",
       " \" 'aazg'\",\n",
       " \" 'aazg'\",\n",
       " \" 'kqmf'\",\n",
       " \" ' '\",\n",
       " \" ' '\",\n",
       " \" 'qlps'\",\n",
       " \" 'ngbi'\",\n",
       " \" 'fouy'\",\n",
       " \" 'aazg'\",\n",
       " \" 'kqmf'\",\n",
       " \" 'ngtn'\",\n",
       " \" 'qlps'\",\n",
       " \" 'kqmf']\"]"
      ]
     },
     "execution_count": 35,
     "metadata": {},
     "output_type": "execute_result"
    }
   ],
   "source": [
    "arr2"
   ]
  },
  {
   "cell_type": "code",
   "execution_count": 37,
   "metadata": {},
   "outputs": [
    {
     "data": {
      "text/plain": [
       "\" ' '\""
      ]
     },
     "execution_count": 37,
     "metadata": {},
     "output_type": "execute_result"
    }
   ],
   "source": [
    "arr2[1]"
   ]
  },
  {
   "cell_type": "code",
   "execution_count": 27,
   "metadata": {},
   "outputs": [
    {
     "data": {
      "text/plain": [
       "7"
      ]
     },
     "execution_count": 27,
     "metadata": {},
     "output_type": "execute_result"
    }
   ],
   "source": [
    "len(arr[1])"
   ]
  },
  {
   "cell_type": "code",
   "execution_count": 23,
   "metadata": {},
   "outputs": [
    {
     "data": {
      "text/plain": [
       "3"
      ]
     },
     "execution_count": 23,
     "metadata": {},
     "output_type": "execute_result"
    }
   ],
   "source": [
    "len(arr[0])"
   ]
  },
  {
   "cell_type": "code",
   "execution_count": 22,
   "metadata": {},
   "outputs": [
    {
     "name": "stdout",
     "output_type": "stream",
     "text": [
      "' '\n",
      " 'aazg'\n",
      " 'fouy'\n",
      " 'kqmf'\n",
      " 'ngbi'\n",
      " 'qlps'\n",
      " 'ngtn'\n",
      " 'muic'\n",
      " 'hrit'\n",
      " 'fllg'\n",
      " 'oera'\n",
      " 'dnhf'\n",
      " 'uvsi'\n",
      " 'bnlu'\n",
      " 'yjuw']\n"
     ]
    }
   ],
   "source": [
    "for ele in arr:\n",
    "    print(ele)"
   ]
  },
  {
   "cell_type": "code",
   "execution_count": 76,
   "metadata": {},
   "outputs": [
    {
     "data": {
      "text/plain": [
       "\"'rhcf'\""
      ]
     },
     "execution_count": 76,
     "metadata": {},
     "output_type": "execute_result"
    }
   ],
   "source": [
    "arr[0]"
   ]
  },
  {
   "cell_type": "code",
   "execution_count": 77,
   "metadata": {},
   "outputs": [
    {
     "name": "stdout",
     "output_type": "stream",
     "text": [
      "{'RS (1).png': [\"['rhcf', 'ipmw', 'fasv', 'twvf', 'alit', 'owxj', 'vraz', \"\n",
      "                \"'licd', 'iust', 'echd', 'ahpx', 'qzxl', 'kclw', 'rffl', \"\n",
      "                \"'jgpk']\",\n",
      "                \"['', 'rhcf', 'ipmw', 'rhcf', 'rhcf', 'ipmw', 'ipmw', 'fasv', \"\n",
      "                \"'rhcf', 'ipmw', 'alit', 'iust', 'ahpx', 'rhcf', 'rhcf']\"],\n",
      " 'RS (10).png': [\"['aftw', 'ymij', 'fqef', 'lhsb', 'mlrf', 'juhs', 'vsba', \"\n",
      "                 \"'kdug', 'ylvn', 'enkj', 'ilaa', 'msff', 'nbzx', 'gcql', \"\n",
      "                 \"'kpms']\",\n",
      "                 \"['', 'aftw', 'ymij', 'aftw', 'fqef', 'lhsb', 'aftw', 'aftw', \"\n",
      "                 \"'ymij', 'mlrf', 'fqef', 'aftw', 'juhs', 'msff', 'fqef']\"],\n",
      " 'RS (2).png': [\"['kmre', 'mkjm', 'uxag', 'vdhd', 'cwgt', 'hwdv', 'pkao', \"\n",
      "                \"'wnlt', 'jzvp', 'yctd', 'uljh', 'tfrk', 'qmsi', 'onex', \"\n",
      "                \"'xipe']\",\n",
      "                \"['', 'kmre', 'mkjm', 'uxag', 'uxag', 'kmre', 'hwdv', 'uxag', \"\n",
      "                \"'cwgt', 'kmre', 'yctd', 'pkao', 'yctd', 'pkao', 'vdhd']\"],\n",
      " 'RS (3).png': [\"['mcav', 'mloh', 'dwty', 'nuty', 'lxqu', 'nnpd', 'fbrb', \"\n",
      "                \"'wqjv', 'nmzj', 'vtlb', 'dptd', 'tcnr', 'iwtl', 'xije', \"\n",
      "                \"'nsnj']\",\n",
      "                \"['', 'mcav', 'mloh', 'mcav', 'mcav', 'mloh', 'mcav', 'nuty', \"\n",
      "                \"'dwty', 'lxqu', 'wqjv', 'nmzj', 'nmzj', 'wqjv', 'nuty']\"],\n",
      " 'RS (4).png': [\"['vznv', 'zhha', 'wrvy', 'syys', 'gzrd', 'rurb', 'dgwv', \"\n",
      "                \"'fglk', 'ntkv', 'vfrr', 'ggmc', 'qkiw', 'lxgg', 'eppu', \"\n",
      "                \"'ewok']\",\n",
      "                \"['', 'vznv', 'zhha', 'vznv', 'syys', 'gzrd', 'zhha', 'vznv', \"\n",
      "                \"'gzrd', 'gzrd', 'gzrd', 'dgwv', 'gzrd', 'wrvy', 'gzrd']\"],\n",
      " 'RS (5).png': [\"['zjvr', 'zfxc', 'zdng', 'wdng', 'rcrp', 'nrac', 'rdyc', \"\n",
      "                \"'eyoy', 'yqmi', 'epvk', 'ziyq', 'vhpm', 'couc', 'jcju', \"\n",
      "                \"'czqd']\",\n",
      "                \"['', 'zjvr', 'zfxc', 'zfxc', 'zfxc', 'zdng', 'zjvr', 'zjvr', \"\n",
      "                \"'rcrp', 'eyoy', 'epvk', 'rcrp', 'rdyc', 'eyoy', 'rdyc']\"],\n",
      " 'RS (6).png': [\"['oiwt', 'uizc', 'wogn', 'mcdh', 'bila', 'pdub', 'dxzk', \"\n",
      "                \"'hsnc', 'hgrw', 'cdyw', 'zguv', 'xpwj', 'jlsn', 'akmu', \"\n",
      "                \"'jxtn']\",\n",
      "                \"['', 'oiwt', 'uizc', 'uizc', 'oiwt', 'mcdh', 'pdub', 'uizc', \"\n",
      "                \"'bila', 'mcdh', 'oiwt', 'uizc', 'pdub', 'zguv', 'uizc']\"],\n",
      " 'RS (7).png': [\"['ivba', 'xxnq', 'imuu', 'vnve', 'vwbd', 'hass', 'vipc', \"\n",
      "                \"'gczr', 'qaje', 'uvma', 'twbm', 'velt', 'ugsc', 'uoyu', \"\n",
      "                \"'sorl']\",\n",
      "                \"['', 'ivba', 'xxnq', 'imuu', 'imuu', 'imuu', 'hass', 'vipc', \"\n",
      "                \"'xxnq', 'hass', 'qaje', 'gczr', 'imuu', 'uvma', 'vwbd']\"],\n",
      " 'RS (8).png': [\"['cuqz', 'artw', 'xzpv', 'noue', 'wxea', 'gtme', 'pgpn', \"\n",
      "                \"'rfdd', 'szad', 'lstf', 'wgsd', 'gosc', 'pfjw', 'yhug', \"\n",
      "                \"'hfms']\",\n",
      "                \"['', 'cuqz', 'cuqz', 'xzpv', 'cuqz', 'noue', 'cuqz', 'noue', \"\n",
      "                \"'artw', 'wxea', 'gtme', 'lstf', 'lstf', 'noue', 'cuqz']\"],\n",
      " 'RS (9).png': [\"['gafz', 'ways', 'zwko', 'lunp', 'bqvh', 'ewqh', 'uujr', \"\n",
      "                \"'khat', 'osba', 'aebv', 'annj', 'dulh', 'ytic', 'iake', \"\n",
      "                \"'dzib']\",\n",
      "                \"['', 'gafz', 'ways', 'ways', 'gafz', 'zwko', 'gafz', 'gafz', \"\n",
      "                \"'bqvh', 'ewqh', 'zwko', 'aebv', 'uujr', 'bqvh', 'ewqh']\"]}\n"
     ]
    }
   ],
   "source": [
    "pprint.pprint(dict_category)"
   ]
  }
 ],
 "metadata": {
  "kernelspec": {
   "display_name": "base",
   "language": "python",
   "name": "python3"
  },
  "language_info": {
   "codemirror_mode": {
    "name": "ipython",
    "version": 3
   },
   "file_extension": ".py",
   "mimetype": "text/x-python",
   "name": "python",
   "nbconvert_exporter": "python",
   "pygments_lexer": "ipython3",
   "version": "3.9.12"
  },
  "orig_nbformat": 4,
  "vscode": {
   "interpreter": {
    "hash": "5f627a89afdd81c2a6a88c4efcbc71f26935b8cff641e8109c11c0fb4ca7a5b9"
   }
  }
 },
 "nbformat": 4,
 "nbformat_minor": 2
}
